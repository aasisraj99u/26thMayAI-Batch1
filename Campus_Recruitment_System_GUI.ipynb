{
 "cells": [
  {
   "cell_type": "markdown",
   "metadata": {},
   "source": [
    "### <h1 style='font-size:30px; text-align:center'>GUI of Campus Recruitment System</h1>"
   ]
  },
  {
   "cell_type": "code",
   "execution_count": 21,
   "metadata": {},
   "outputs": [],
   "source": [
    "import numpy as np\n",
    "import warnings\n",
    "import pandas as pd\n",
    "from tkinter import *\n",
    "import matplotlib.pyplot as plt\n",
    "%matplotlib inline\n",
    "warnings.filterwarnings('ignore')\n",
    "\n",
    "app=Tk()\n",
    "app.title('Campus Recruitment System')\n",
    "app.geometry('600x430')\n",
    "app.config(bg='white')\n",
    "\n",
    "\n",
    "f= Frame(app,width=560,height=380,bd=5,bg='#FFFFE0',relief=\"ridge\").place(x=20,y=25)\n",
    "Label(f,text=\"10th Percentage : \",font=(\"quiche sans\", 12,'bold'),bg='#FFFFE0',fg='#ff9933').place(x=80,y=120)\n",
    "Label(f,text=\"12th Percentage : \",font=(\"quiche sans\", 12,'bold'),bg='#FFFFE0',fg='#ff9933').place(x=80,y=160)\n",
    "Label(f,text=\"Degree Percentage : \",font=(\"quiche sans\", 12,'bold'),bg='#FFFFE0',fg='#ff9933').place(x=80,y=200)\n",
    "Label(f,text=\"Specialisation in : \",font=(\"quiche sans\", 12,'bold'),bg='#FFFFE0',fg='#ff9933').place(x=80,y=240)\n",
    "\n",
    "\n",
    "title =Label(f, text=\"Campus Recruitment System\", font=(\"quiche sans\", 15, \"bold\"), bg=\"#ebae34\",\n",
    "                      fg=\"white\").place(x=50, y=35, width=500, height=35)\n",
    " \n",
    "ssc_p_var = Variable(app)\n",
    "Entry(f,textvariable= ssc_p_var,width=40,bd=3).place(x=240,y=122)\n",
    "\n",
    "hsc_p_var = Variable(app)\n",
    "Entry(f,textvariable= hsc_p_var,width=40,bd=3).place(x=240,y=162)\n",
    "\n",
    "degree_p_var = Variable(app)\n",
    "Entry(f,textvariable= degree_p_var,width=40,bd=3).place(x=260,y=202)\n",
    "\n",
    "spec_var = Variable(app)\n",
    "Entry(f,textvariable= spec_var,width=40,bd=3).place(x=240,y=242)\n",
    "\n",
    "\n",
    "status_var = Variable(app)\n",
    "Label(f,text=\"Status : \",font=(\"quiche sans\", 12,'bold'),bg='#FFFFE0',fg='#ff9933').place(x=80,y=350)\n",
    "Label(f,textvariable=status_var,font=(\"quiche sans\", 10, \"bold\"),bg='#FFFFE0').place(x=150,y=352)\n",
    "\n",
    "spec_var.set('Mkt&HR or Mkt&Fin .....')\n",
    "\n",
    "def calculate_price():\n",
    "    if(spec_var.get() == 'Mkt&HR'):\n",
    "        spec = 1\n",
    "    else:\n",
    "        spec = 0\n",
    "    query = pd.DataFrame({\n",
    "        'ssc_p':[ssc_p_var.get()],\n",
    "        'hsc_p':[hsc_p_var.get()],\n",
    "        'degree_p':[degree_p_var.get()],\n",
    "        'Specialisation': [spec]\n",
    "    })\n",
    "    \n",
    "    model = pd.read_pickle('CampusRecruitment')\n",
    "    if(model.predict(query)[0] == 1):\n",
    "        status_var.set(\"Congratulations! You're are Selected\")\n",
    "    else:\n",
    "        status_var.set('Sorry better luck next time')\n",
    "    \n",
    "def Clear():\n",
    "    ssc_p_var.set('')\n",
    "    hsc_p_var.set('')\n",
    "    degree_p_var.set('')\n",
    "    spec_var.set('Mkt&HR or Mkt&Fin .....')\n",
    "    status_var.set('')\n",
    "    \n",
    "Button(app,text='See Your Result',command = calculate_price,bg='#33cc33').place(x=180,y=300)\n",
    "Button(app,text='Clear',width=10,command = Clear,bg='#33cc33').place(x=300,y=300)\n",
    "app.mainloop()"
   ]
  },
  {
   "cell_type": "code",
   "execution_count": null,
   "metadata": {},
   "outputs": [],
   "source": []
  },
  {
   "cell_type": "code",
   "execution_count": null,
   "metadata": {},
   "outputs": [],
   "source": []
  }
 ],
 "metadata": {
  "kernelspec": {
   "display_name": "Python 3",
   "language": "python",
   "name": "python3"
  },
  "language_info": {
   "codemirror_mode": {
    "name": "ipython",
    "version": 3
   },
   "file_extension": ".py",
   "mimetype": "text/x-python",
   "name": "python",
   "nbconvert_exporter": "python",
   "pygments_lexer": "ipython3",
   "version": "3.7.4"
  }
 },
 "nbformat": 4,
 "nbformat_minor": 2
}
