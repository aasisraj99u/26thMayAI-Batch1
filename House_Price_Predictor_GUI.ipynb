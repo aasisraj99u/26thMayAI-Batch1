{
 "cells": [
  {
   "cell_type": "markdown",
   "metadata": {},
   "source": [
    "<h1 style='font-size:30px; text-align:center'>House Price Predictor</h1>"
   ]
  },
  {
   "cell_type": "code",
   "execution_count": 109,
   "metadata": {},
   "outputs": [],
   "source": [
    "import numpy as np\n",
    "import warnings\n",
    "import pandas as pd\n",
    "from tkinter import *\n",
    "import matplotlib.pyplot as plt\n",
    "%matplotlib inline\n",
    "warnings.filterwarnings('ignore')\n",
    "\n",
    "app=Tk()\n",
    "app.title('House Price Predictor')\n",
    "app.geometry('600x430')\n",
    "app.config(bg='white')\n",
    "\n",
    "\n",
    "f= Frame(app,width=560,height=380,bd=5,bg='#FFFFE0',relief=\"ridge\").place(x=20,y=25)\n",
    "Label(f,text=\"Income : \",font=(\"quiche sans\", 12,'bold'),bg='#FFFFE0',fg='#ff9933').place(x=80,y=120)\n",
    "Label(f,text=\"House Age : \",font=(\"quiche sans\", 12,'bold'),bg='#FFFFE0',fg='#ff9933').place(x=80,y=160)\n",
    "Label(f,text=\"Number of Rooms : \",font=(\"quiche sans\", 12,'bold'),bg='#FFFFE0',fg='#ff9933').place(x=80,y=200)\n",
    "Label(f,text=\"Population : \",font=(\"quiche sans\", 12,'bold'),bg='#FFFFE0',fg='#ff9933').place(x=80,y=240)\n",
    "\n",
    "\n",
    "title =Label(f, text=\"House Price Predictor\", font=(\"quiche sans\", 15, \"bold\"), bg=\"#ebae34\",\n",
    "                      fg=\"white\").place(x=50, y=35, width=500, height=35)\n",
    " \n",
    "income_var = Variable(app)\n",
    "Entry(f,textvariable= income_var,width=40,bd=3).place(x=240,y=122)\n",
    "\n",
    "house_age_var = Variable(app)\n",
    "Entry(f,textvariable= house_age_var,width=40,bd=3).place(x=240,y=162)\n",
    "\n",
    "noofrooms_var = Variable(app)\n",
    "Entry(f,textvariable= noofrooms_var,width=40,bd=3).place(x=240,y=202)\n",
    "\n",
    "population_var = Variable(app)\n",
    "Entry(f,textvariable= population_var,width=40,bd=3).place(x=240,y=242)\n",
    "\n",
    "\n",
    "price_var = Variable(app)\n",
    "Label(f,text=\"Predicted Price : \",font=(\"quiche sans\", 12,'bold'),bg='#FFFFE0',fg='#ff9933').place(x=80,y=350)\n",
    "Label(f,textvariable=price_var,font=(\"quiche sans\", 10, \"bold\")).place(x=240,y=352)\n",
    "price_var.set('Your Predicted Price is ....')\n",
    "\n",
    "\n",
    "\n",
    "def calculate_price():\n",
    "    query = pd.DataFrame({\n",
    "        'Avg. Area Income':[income_var.get()],\n",
    "        'Avg. Area House Age':[house_age_var.get()],\n",
    "        'Avg. Area Number of Rooms':[noofrooms_var.get()],\n",
    "        'Area Populaion': [population_var.get()]\n",
    "    })\n",
    "    \n",
    "    model = pd.read_pickle('HousePricePredictor')\n",
    "    price= model.predict(query)[0]\n",
    "    price_var.set(str(round(price,2)) + \" Rs\" )\n",
    "    \n",
    "def Clear():\n",
    "    income_var.set('')\n",
    "    house_age_var.set('')\n",
    "    noofrooms_var.set('')\n",
    "    population_var.set('')\n",
    "    price_var.set('Your Predicted Price is ....')\n",
    "    \n",
    "Button(app,text='Calculate Price',command = calculate_price,bg='#33cc33').place(x=180,y=300)\n",
    "Button(app,text='Clear',width=10,command = Clear,bg='#33cc33').place(x=300,y=300)\n",
    "app.mainloop()"
   ]
  },
  {
   "cell_type": "code",
   "execution_count": null,
   "metadata": {},
   "outputs": [],
   "source": []
  },
  {
   "cell_type": "code",
   "execution_count": null,
   "metadata": {},
   "outputs": [],
   "source": []
  }
 ],
 "metadata": {
  "kernelspec": {
   "display_name": "Python 3",
   "language": "python",
   "name": "python3"
  },
  "language_info": {
   "codemirror_mode": {
    "name": "ipython",
    "version": 3
   },
   "file_extension": ".py",
   "mimetype": "text/x-python",
   "name": "python",
   "nbconvert_exporter": "python",
   "pygments_lexer": "ipython3",
   "version": "3.7.4"
  }
 },
 "nbformat": 4,
 "nbformat_minor": 2
}
